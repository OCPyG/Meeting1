{
 "cells": [
  {
   "cell_type": "markdown",
   "metadata": {},
   "source": [
    "## PYDEV - $1^{st}$ Meeting\n",
    "\n",
    "* Intro\n",
    "    * Goals:\n",
    "        1. Pool Python knowledge and skills\n",
    "        2. Develop community to\n",
    "            a. write better code\n",
    "            b. develop and roll out faster\n",
    "            c. help others\n",
    "        3. Respond to increased use of Scientific Python \n",
    "            * IDL scripts\n",
    "            * Data access?\n",
    "        \n",
    "    \n",
    "* Tools\n",
    "    * Github Repo: https://github.com/OCPyG\n",
    "        * This meeting: **git clone https://github.com/OCPyG/Meeting1.git**\n",
    "    * Scientific Python: https://www.continuum.io/downloads\n",
    "    * e-books: http://library.gsfc.nasa.gov/resource-types/books-and-ebooks\n",
    "        * Safari books online: http://search.safaribooksonline.com/search?q=python\n",
    "    * Misc.: atom; https://atom.io/\n",
    "    \n",
    "    \n",
    "* Tentative Format\n",
    "    * quick presentation, e.g. on ipython notebook\n",
    "        * showcase a useful module, pose a problem, etc.\n",
    "    * (interactive) discussion\n",
    "    * can all be online\n",
    "    * ...\n",
    "\n",
    "\n",
    "* Tentative list of topics of potential interest to the group\n",
    "    * netCDF4 -- how to read our files\n",
    "    * numpy -- manipulate data\n",
    "    * matplotlib, seaborn\n",
    "    * scipy, requests, Cython, numba, subprocess, multiprocessing, threading, scipy, scikit-learn, statsmodels, theano, bokeh?"
   ]
  },
  {
   "cell_type": "markdown",
   "metadata": {},
   "source": [
    "-Numpy\n",
    "-Scipy\n",
    "-Plots\n",
    "-Matplotlib\n",
    "-Gwyn bootcamp notebooks"
   ]
  },
  {
   "cell_type": "markdown",
   "metadata": {},
   "source": [
    "### Brief netcdf4 / numpy tutorial "
   ]
  },
  {
   "cell_type": "code",
   "execution_count": 41,
   "metadata": {
    "collapsed": true
   },
   "outputs": [],
   "source": [
    "# loaded relevant modules\n",
    "import netCDF4 as nc\n",
    "import numpy as np"
   ]
  },
  {
   "cell_type": "code",
   "execution_count": 3,
   "metadata": {
    "collapsed": true
   },
   "outputs": [],
   "source": [
    "# open a data file and create a dataset object\n",
    "fpath = './S1997302193636_silent.L2'\n",
    "ds = nc.Dataset(fpath)"
   ]
  },
  {
   "cell_type": "code",
   "execution_count": 4,
   "metadata": {
    "collapsed": false
   },
   "outputs": [
    {
     "data": {
      "text/plain": [
       "<class 'netCDF4._netCDF4.Dataset'>\n",
       "root group (NETCDF4 data model, file format HDF5):\n",
       "    title: SeaWiFS Level-2 Data\n",
       "    product_name: S1997302193636_silent.L2\n",
       "    processing_version: Unspecified\n",
       "    equatorCrossingLongitude: -116.421\n",
       "    orbit_number: 1321\n",
       "    history: l2gen ifile=/disk02/UNCERTAINTIES/Monte-Carlo/Matchups/L1As/S1997302193636.L1A_MLAC.R0000020885_30N_30N_114W_114W.hdf ofile=/disk02/UNCERTAINTIES/Monte-Carlo/Matchups/L2/S1997302193636/S1997302193636_silent.L2 par=./parfiles/parfile_silent\n",
       "    instrument: SeaWiFS\n",
       "    platform: Orbview-2\n",
       "    Conventions: CF-1.6\n",
       "    Metadata_Conventions: Unidata Dataset Discovery v1.0\n",
       "    license: http://science.nasa.gov/earth-science/earth-science-data/data-information-policy/\n",
       "    naming_authority: gov.nasa.gsfc.sci.oceandata\n",
       "    id: L2/S1997302193636_silent.L2\n",
       "    date_created: 2016-06-20T19:03:10.000Z\n",
       "    keywords_vocabulary: NASA Global Change Master Directory (GCMD) Science Keywords\n",
       "    keywords: Oceans > Ocean Chemistry > Chlorophyll; Oceans > Ocean Optics > Ocean Color\n",
       "    standard_name_vocabulary: NetCDF Climate and Forecast (CF) Metadata Convention\n",
       "    institution: NASA Goddard Space Flight Center, Ocean Ecology Laboratory, Ocean Biology Processing Group\n",
       "    creator_name: NASA/GSFC/OBPG\n",
       "    creator_email: data@oceancolor.gsfc.nasa.gov\n",
       "    creator_url: http://oceandata.sci.gsfc.nasa.gov\n",
       "    project: Ocean Biology Processing Group (NASA/GSFC/OBPG)\n",
       "    publisher_name: NASA/GSFC/OBPG\n",
       "    publisher_url: http://oceandata.sci.gsfc.nasa.gov\n",
       "    publisher_email: data@oceancolor.gsfc.nasa.gov\n",
       "    identifier_product_doi_authority: http://dx.doi.org\n",
       "    identifier_product_doi: 10.5067/ORBVIEW-2/SEAWIFS_OC.2014.0\n",
       "    processing_level: L2\n",
       "    cdm_data_type: swath\n",
       "    equatorCrossingDateTime: 1997-10-29T19:53:26.592Z\n",
       "    spatialResolution: 1.1 km\n",
       "    time_coverage_start: 1997-10-29T19:44:52.277Z\n",
       "    time_coverage_end: 1997-10-29T19:45:08.943Z\n",
       "    start_center_longitude: -114.163\n",
       "    start_center_latitude: 30.7198\n",
       "    end_center_longitude: -114.387\n",
       "    end_center_latitude: 29.7148\n",
       "    northernmost_latitude: 30.8313\n",
       "    southernmost_latitude: 29.613\n",
       "    easternmost_longitude: -113.381\n",
       "    westernmost_longitude: -115.244\n",
       "    geospatial_lat_units: degrees_north\n",
       "    geospatial_lon_units: degrees_east\n",
       "    geospatial_lat_max: 30.8313\n",
       "    geospatial_lat_min: 29.613\n",
       "    geospatial_lon_max: -113.381\n",
       "    geospatial_lon_min: -115.244\n",
       "    startDirection: Descending\n",
       "    endDirection: Descending\n",
       "    day_night_flag: Day\n",
       "    earth_sun_distance_correction: 1.01395797729\n",
       "    dimensions(sizes): number_of_lines(101), pixels_per_line(101), pixel_control_points(101), number_of_bands(8), number_of_reflective_bands(8)\n",
       "    variables(dimensions): \n",
       "    groups: sensor_band_parameters, scan_line_attributes, geophysical_data, navigation_data, processing_control"
      ]
     },
     "execution_count": 4,
     "metadata": {},
     "output_type": "execute_result"
    }
   ],
   "source": [
    "# let's look at the ds object we just created\n",
    "ds"
   ]
  },
  {
   "cell_type": "code",
   "execution_count": 8,
   "metadata": {
    "collapsed": false
   },
   "outputs": [
    {
     "data": {
      "text/plain": [
       "OrderedDict([('number_of_lines',\n",
       "              <class 'netCDF4._netCDF4.Dimension'>: name = 'number_of_lines', size = 101),\n",
       "             ('pixels_per_line',\n",
       "              <class 'netCDF4._netCDF4.Dimension'>: name = 'pixels_per_line', size = 101),\n",
       "             ('pixel_control_points',\n",
       "              <class 'netCDF4._netCDF4.Dimension'>: name = 'pixel_control_points', size = 101),\n",
       "             ('number_of_bands',\n",
       "              <class 'netCDF4._netCDF4.Dimension'>: name = 'number_of_bands', size = 8),\n",
       "             ('number_of_reflective_bands',\n",
       "              <class 'netCDF4._netCDF4.Dimension'>: name = 'number_of_reflective_bands', size = 8)])"
      ]
     },
     "execution_count": 8,
     "metadata": {},
     "output_type": "execute_result"
    }
   ],
   "source": [
    "# most attributes in the ds object are demselves an ordered dictionary (also an object)\n",
    "ds.dimensions"
   ]
  },
  {
   "cell_type": "code",
   "execution_count": 15,
   "metadata": {
    "collapsed": false
   },
   "outputs": [
    {
     "data": {
      "text/plain": [
       "odict_keys(['sensor_band_parameters', 'scan_line_attributes', 'geophysical_data', 'navigation_data', 'processing_control'])"
      ]
     },
     "execution_count": 15,
     "metadata": {},
     "output_type": "execute_result"
    }
   ],
   "source": [
    "# Groups is the main dictionary for anything to do with data manipulations.\n",
    "ds.groups.keys()"
   ]
  },
  {
   "cell_type": "code",
   "execution_count": 44,
   "metadata": {
    "collapsed": false
   },
   "outputs": [
    {
     "data": {
      "text/plain": [
       "<class 'netCDF4._netCDF4.Group'>\n",
       "group /scan_line_attributes:\n",
       "    dimensions(sizes): \n",
       "    variables(dimensions): int32 \u001b[4myear\u001b[0m(number_of_lines), int32 \u001b[4mday\u001b[0m(number_of_lines), int32 \u001b[4mmsec\u001b[0m(number_of_lines), int8 \u001b[4mdetnum\u001b[0m(number_of_lines), int8 \u001b[4mmside\u001b[0m(number_of_lines), float32 \u001b[4mslon\u001b[0m(number_of_lines), float32 \u001b[4mclon\u001b[0m(number_of_lines), float32 \u001b[4melon\u001b[0m(number_of_lines), float32 \u001b[4mslat\u001b[0m(number_of_lines), float32 \u001b[4mclat\u001b[0m(number_of_lines), float32 \u001b[4melat\u001b[0m(number_of_lines), float32 \u001b[4mcsol_z\u001b[0m(number_of_lines)\n",
       "    groups: "
      ]
     },
     "execution_count": 44,
     "metadata": {},
     "output_type": "execute_result"
    }
   ],
   "source": [
    "# Entries in groups netcdf4 group objects which in turn typically contain dictionaries\n",
    "ds.groups['scan_line_attributes']"
   ]
  },
  {
   "cell_type": "code",
   "execution_count": 14,
   "metadata": {
    "collapsed": false
   },
   "outputs": [
    {
     "data": {
      "text/plain": [
       "<class 'netCDF4._netCDF4.Variable'>\n",
       "int32 year(number_of_lines)\n",
       "    long_name: Scan year\n",
       "    units: years\n",
       "    _FillValue: -32767\n",
       "    valid_min: 1900\n",
       "    valid_max: 2100\n",
       "path = /scan_line_attributes\n",
       "unlimited dimensions: \n",
       "current shape = (101,)\n",
       "filling on"
      ]
     },
     "execution_count": 14,
     "metadata": {},
     "output_type": "execute_result"
    }
   ],
   "source": [
    "# accessing one of these dictionaries shows netcdf4 variable object.\n",
    "ds.groups['scan_line_attributes'].variables['year']"
   ]
  },
  {
   "cell_type": "code",
   "execution_count": 12,
   "metadata": {
    "collapsed": false
   },
   "outputs": [
    {
     "data": {
      "text/plain": [
       "array([1997, 1997, 1997, 1997, 1997, 1997, 1997, 1997, 1997, 1997, 1997,\n",
       "       1997, 1997, 1997, 1997, 1997, 1997, 1997, 1997, 1997, 1997, 1997,\n",
       "       1997, 1997, 1997, 1997, 1997, 1997, 1997, 1997, 1997, 1997, 1997,\n",
       "       1997, 1997, 1997, 1997, 1997, 1997, 1997, 1997, 1997, 1997, 1997,\n",
       "       1997, 1997, 1997, 1997, 1997, 1997, 1997, 1997, 1997, 1997, 1997,\n",
       "       1997, 1997, 1997, 1997, 1997, 1997, 1997, 1997, 1997, 1997, 1997,\n",
       "       1997, 1997, 1997, 1997, 1997, 1997, 1997, 1997, 1997, 1997, 1997,\n",
       "       1997, 1997, 1997, 1997, 1997, 1997, 1997, 1997, 1997, 1997, 1997,\n",
       "       1997, 1997, 1997, 1997, 1997, 1997, 1997, 1997, 1997, 1997, 1997,\n",
       "       1997, 1997], dtype=int32)"
      ]
     },
     "execution_count": 12,
     "metadata": {},
     "output_type": "execute_result"
    }
   ],
   "source": [
    "# a netcdf4 variable object can be accessed as a numpy array like so\n",
    "ds.groups['scan_line_attributes'].variables['year'][:]"
   ]
  },
  {
   "cell_type": "code",
   "execution_count": 18,
   "metadata": {
    "collapsed": true
   },
   "outputs": [],
   "source": [
    "# just so we don't have to retype long references here's assigning the variable object in \n",
    "# a couple of the groups entries...\n",
    "gpNavVar = ds.groups['navigation_data'].variables\n",
    "gpGeoVar = ds.groups['geophysical_data'].variables"
   ]
  },
  {
   "cell_type": "code",
   "execution_count": 19,
   "metadata": {
    "collapsed": false
   },
   "outputs": [],
   "source": [
    "# and passing some of their content to numpy arrays\n",
    "lats = gpNavVar['latitude'][:]\n",
    "lons = gpNavVar['longitude'][:]"
   ]
  },
  {
   "cell_type": "code",
   "execution_count": 23,
   "metadata": {
    "collapsed": false
   },
   "outputs": [
    {
     "name": "stdout",
     "output_type": "stream",
     "text": [
      "pi is 3.142 3.1416\n"
     ]
    }
   ],
   "source": [
    "# quick aside on how the print function works, and how string formatting can be done\n",
    "from math import pi\n",
    "print(\"pi is %.3f %.4f\" % (pi,pi))"
   ]
  },
  {
   "cell_type": "code",
   "execution_count": 25,
   "metadata": {
    "collapsed": true
   },
   "outputs": [],
   "source": [
    "# [:] passes gets the whole data array\n",
    "chlora = gpGeoVar['chlor_a'][:]"
   ]
  },
  {
   "cell_type": "code",
   "execution_count": 45,
   "metadata": {
    "collapsed": false
   },
   "outputs": [],
   "source": [
    "# slicing the array can be done like so (remember that the end of the range is exclusive in python)\n",
    "chlorw = gpGeoVar['chlor_a'][10:45,20:]"
   ]
  },
  {
   "cell_type": "code",
   "execution_count": 46,
   "metadata": {
    "collapsed": false
   },
   "outputs": [
    {
     "data": {
      "text/plain": [
       "(35, 81)"
      ]
     },
     "execution_count": 46,
     "metadata": {},
     "output_type": "execute_result"
    }
   ],
   "source": [
    "chlorw.shape"
   ]
  },
  {
   "cell_type": "code",
   "execution_count": 47,
   "metadata": {
    "collapsed": false
   },
   "outputs": [
    {
     "data": {
      "text/plain": [
       "numpy.ma.core.MaskedArray"
      ]
     },
     "execution_count": 47,
     "metadata": {},
     "output_type": "execute_result"
    }
   ],
   "source": [
    "# usually, if the data has gone through flagging, the resulting variable is a \n",
    "#    numpy masked array...\n",
    "type(chlora)"
   ]
  },
  {
   "cell_type": "code",
   "execution_count": 27,
   "metadata": {
    "collapsed": false
   },
   "outputs": [
    {
     "data": {
      "text/plain": [
       "masked_array(data =\n",
       " [[-- -- -- ..., 0.7414780855178833 0.8797937035560608 0.8858433365821838]\n",
       " [-- -- -- ..., 0.7445796132087708 0.8131616115570068 0.8088726997375488]\n",
       " [-- -- -- ..., 0.9621338248252869 0.7958893179893494 0.8035178184509277]\n",
       " ..., \n",
       " [-- -- -- ..., 0.9789645671844482 0.9724005460739136 0.9688998460769653]\n",
       " [-- -- -- ..., 1.2452915906906128 1.0555698871612549 1.0561654567718506]\n",
       " [-- -- -- ..., 1.2546403408050537 1.0435562133789062 0.8720251321792603]],\n",
       "             mask =\n",
       " [[ True  True  True ..., False False False]\n",
       " [ True  True  True ..., False False False]\n",
       " [ True  True  True ..., False False False]\n",
       " ..., \n",
       " [ True  True  True ..., False False False]\n",
       " [ True  True  True ..., False False False]\n",
       " [ True  True  True ..., False False False]],\n",
       "       fill_value = -32767.0)"
      ]
     },
     "execution_count": 27,
     "metadata": {},
     "output_type": "execute_result"
    }
   ],
   "source": [
    "# this is a array with a data component and a mask component. Caution! a 'True' entry in the \n",
    "#    mask refers to a *bad* entry.\n",
    "chlora"
   ]
  },
  {
   "cell_type": "code",
   "execution_count": 28,
   "metadata": {
    "collapsed": false
   },
   "outputs": [
    {
     "data": {
      "text/plain": [
       "array([[ -3.27670000e+04,  -3.27670000e+04,  -3.27670000e+04, ...,\n",
       "          7.41478086e-01,   8.79793704e-01,   8.85843337e-01],\n",
       "       [ -3.27670000e+04,  -3.27670000e+04,  -3.27670000e+04, ...,\n",
       "          7.44579613e-01,   8.13161612e-01,   8.08872700e-01],\n",
       "       [ -3.27670000e+04,  -3.27670000e+04,  -3.27670000e+04, ...,\n",
       "          9.62133825e-01,   7.95889318e-01,   8.03517818e-01],\n",
       "       ..., \n",
       "       [ -3.27670000e+04,  -3.27670000e+04,  -3.27670000e+04, ...,\n",
       "          9.78964567e-01,   9.72400546e-01,   9.68899846e-01],\n",
       "       [ -3.27670000e+04,  -3.27670000e+04,  -3.27670000e+04, ...,\n",
       "          1.24529159e+00,   1.05556989e+00,   1.05616546e+00],\n",
       "       [ -3.27670000e+04,  -3.27670000e+04,  -3.27670000e+04, ...,\n",
       "          1.25464034e+00,   1.04355621e+00,   8.72025132e-01]], dtype=float32)"
      ]
     },
     "execution_count": 28,
     "metadata": {},
     "output_type": "execute_result"
    }
   ],
   "source": [
    "# getting just the data from the masked array is easy...\n",
    "chlora.data"
   ]
  },
  {
   "cell_type": "code",
   "execution_count": 30,
   "metadata": {
    "collapsed": true
   },
   "outputs": [],
   "source": [
    "# but it will contain the bad values as well. for ease of manipulation the compressed() method \n",
    "# available in masked array objects can be used. compressed() returns a 1D array (vector) of all\n",
    "#  good values. \n",
    "chloranonmasked = chlora.compressed()"
   ]
  },
  {
   "cell_type": "code",
   "execution_count": 31,
   "metadata": {
    "collapsed": false
   },
   "outputs": [
    {
     "data": {
      "text/plain": [
       "numpy.ndarray"
      ]
     },
     "execution_count": 31,
     "metadata": {},
     "output_type": "execute_result"
    }
   ],
   "source": [
    "# this is no longer a masked array and as such methods and attributes available to masked \n",
    "# arrays are no longer available\n",
    "type(chloranonmasked)"
   ]
  },
  {
   "cell_type": "code",
   "execution_count": 32,
   "metadata": {
    "collapsed": false
   },
   "outputs": [
    {
     "name": "stdout",
     "output_type": "stream",
     "text": [
      "(101, 101)\n",
      "(6803,)\n"
     ]
    }
   ],
   "source": [
    "# but as mentioned earlier it has now a smaller footprint\n",
    "print(chlora.shape)\n",
    "print(chloranonmasked.shape)"
   ]
  },
  {
   "cell_type": "code",
   "execution_count": 33,
   "metadata": {
    "collapsed": true
   },
   "outputs": [],
   "source": [
    "# in order to maintain its structural relationship to other arrays, the mask of the original\n",
    "#   array can be used to create new masked arrays. As a result compressing both arrays using \n",
    "#  the same mask maintains said said relationship between these arrays. Here's an example...\n",
    "# Get array from chlora array\n",
    "mymask=chlora.mask"
   ]
  },
  {
   "cell_type": "code",
   "execution_count": 34,
   "metadata": {
    "collapsed": true
   },
   "outputs": [],
   "source": [
    "# Make new masked array with (originally non-masked lat array -- note that np.ma is numpy \n",
    "# masked array submodule\n",
    "latmks = np.ma.array(lats,mask=mymask)"
   ]
  },
  {
   "cell_type": "code",
   "execution_count": 35,
   "metadata": {
    "collapsed": false
   },
   "outputs": [
    {
     "data": {
      "text/plain": [
       "(6803,)"
      ]
     },
     "execution_count": 35,
     "metadata": {},
     "output_type": "execute_result"
    }
   ],
   "source": [
    "# now if we use the compressed method on this new masked array we get the same shape as the \n",
    "#   chloranonmasked array.\n",
    "latmks.compressed().shape"
   ]
  }
 ],
 "metadata": {
  "kernelspec": {
   "display_name": "Python 3",
   "language": "python",
   "name": "python3"
  },
  "language_info": {
   "codemirror_mode": {
    "name": "ipython",
    "version": 3
   },
   "file_extension": ".py",
   "mimetype": "text/x-python",
   "name": "python",
   "nbconvert_exporter": "python",
   "pygments_lexer": "ipython3",
   "version": "3.5.1"
  }
 },
 "nbformat": 4,
 "nbformat_minor": 0
}
