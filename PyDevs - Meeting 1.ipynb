{
 "cells": [
  {
   "cell_type": "markdown",
   "metadata": {},
   "source": [
    "## PYDEV - $1^{st}$ Meeting\n",
    "\n",
    "* Intro\n",
    "    * Goals:\n",
    "        1. Pool Python knowledge and skills\n",
    "        2. Develop community to\n",
    "            a. write better code\n",
    "            b. develop and roll out faster\n",
    "            c. help others\n",
    "        3. Respond to increased use of Scientific Python \n",
    "            * IDL scripts\n",
    "            * Data access?\n",
    "        \n",
    "    \n",
    "* Tools\n",
    "    * Github Repo: https://github.com/OCPyG\n",
    "        * This meeting: https://github.com/OCPyG/Meeting1.git\n",
    "    * Scientific Python: https://www.continuum.io/downloads\n",
    "    * e-books: http://library.gsfc.nasa.gov/resource-types/books-and-ebooks\n",
    "        * Safari books online: http://search.safaribooksonline.com/search?q=python\n",
    "    * Misc.: atom; https://atom.io/\n",
    "    \n",
    "    \n",
    "* Tentative Format\n",
    "    * quick presentation, e.g. on ipython notebook\n",
    "        * showcase a useful module, pose a problem, etc.\n",
    "    * (interactive) discussion\n",
    "    * can all be online\n",
    "    * ...\n",
    "\n",
    "* Tentative list of topics of potential interest to the group\n",
    "    * netCDF4 -- how to read our files\n",
    "    * numpy -- manipulate data\n",
    "    * matplotlib -- plotting\n",
    "    * requests, Cython, numba, subprocess, multiprocessing, threading, scipy, scikit-learn, statsmodels, theano, \n",
    "\n",
    "\n",
    "## An example"
   ]
  },
  {
   "cell_type": "code",
   "execution_count": null,
   "metadata": {
    "collapsed": true
   },
   "outputs": [],
   "source": [
    "import netCDF4 as nc\n",
    "import numpy as np\n",
    "\n",
    "fpath = './A2003118181500.L2'\n",
    "ds = nc.Dataset(fpath)"
   ]
  },
  {
   "cell_type": "code",
   "execution_count": null,
   "metadata": {
    "collapsed": true
   },
   "outputs": [],
   "source": [
    "gpNavVar = ds.groups['navigation_data'].variables\n",
    "gpGeoVar = ds.groups['geophysical_data'].variables"
   ]
  },
  {
   "cell_type": "code",
   "execution_count": null,
   "metadata": {
    "collapsed": true
   },
   "outputs": [],
   "source": [
    "lats = gpNavVar['latitude'][:]\n",
    "lons = gpNavVar['longitude'][:]"
   ]
  },
  {
   "cell_type": "code",
   "execution_count": null,
   "metadata": {
    "collapsed": true
   },
   "outputs": [],
   "source": [
    "chlora = gpGeoVar['chlor_a'][:]"
   ]
  }
 ],
 "metadata": {
  "kernelspec": {
   "display_name": "Python 3",
   "language": "python",
   "name": "python3"
  },
  "language_info": {
   "codemirror_mode": {
    "name": "ipython",
    "version": 3
   },
   "file_extension": ".py",
   "mimetype": "text/x-python",
   "name": "python",
   "nbconvert_exporter": "python",
   "pygments_lexer": "ipython3",
   "version": "3.5.1"
  }
 },
 "nbformat": 4,
 "nbformat_minor": 0
}
